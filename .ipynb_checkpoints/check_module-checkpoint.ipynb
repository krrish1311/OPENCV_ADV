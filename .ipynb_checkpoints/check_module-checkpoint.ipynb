{
 "cells": [
  {
   "cell_type": "code",
   "execution_count": 2,
   "metadata": {},
   "outputs": [],
   "source": [
    "import mediapipe as mp\n",
    "import cv2\n",
    "import time\n",
    "import HandDetectormymodule as hdm"
   ]
  },
  {
   "cell_type": "code",
   "execution_count": 7,
   "metadata": {},
   "outputs": [],
   "source": [
    "Ptime=0\n",
    "Ctime=0\n",
    "cap=cv2.VideoCapture(0)\n",
    "detector=hdm.handdetector()\n",
    "while True:\n",
    "        ret,img=cap.read()\n",
    "        img=detector.find_hands(img)\n",
    "        lmlist=detector.find_positions(img,draw=False)\n",
    "        Ctime=time.time()\n",
    "        fps=1/(Ctime-Ptime)\n",
    "        Ptime=Ctime\n",
    "        #if len(lmlist) != 0:\n",
    "           # print(lmlist)\n",
    "        \n",
    "        cv2.putText(img,str(int(fps)),(10,70),cv2.FONT_HERSHEY_COMPLEX,3,(255,255,0),3)\n",
    "        cv2.imshow('image',img)\n",
    "        if cv2.waitKey(1)==13 :\n",
    "            cv2.destroyAllWindows()  \n",
    "            break"
   ]
  },
  {
   "cell_type": "code",
   "execution_count": 9,
   "metadata": {},
   "outputs": [],
   "source": [
    "cap.release()"
   ]
  },
  {
   "cell_type": "code",
   "execution_count": null,
   "metadata": {},
   "outputs": [],
   "source": []
  }
 ],
 "metadata": {
  "kernelspec": {
   "display_name": "Python 3",
   "language": "python",
   "name": "python3"
  },
  "language_info": {
   "codemirror_mode": {
    "name": "ipython",
    "version": 3
   },
   "file_extension": ".py",
   "mimetype": "text/x-python",
   "name": "python",
   "nbconvert_exporter": "python",
   "pygments_lexer": "ipython3",
   "version": "3.8.5"
  }
 },
 "nbformat": 4,
 "nbformat_minor": 4
}
