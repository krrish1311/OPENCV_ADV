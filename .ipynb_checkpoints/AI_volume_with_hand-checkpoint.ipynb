{
 "cells": [
  {
   "cell_type": "code",
   "execution_count": 18,
   "metadata": {},
   "outputs": [],
   "source": [
    "import mediapipe as mp\n",
    "import cv2\n",
    "import time\n",
    "import HandDetectormymodule as hdt\n",
    "import numpy as np\n",
    "import math\n",
    "from ctypes import cast, POINTER\n",
    "from comtypes import CLSCTX_ALL\n",
    "from pycaw.pycaw import AudioUtilities, IAudioEndpointVolume"
   ]
  },
  {
   "cell_type": "code",
   "execution_count": 19,
   "metadata": {},
   "outputs": [],
   "source": [
    "devices = AudioUtilities.GetSpeakers()\n",
    "interface = devices.Activate(\n",
    "    IAudioEndpointVolume._iid_, CLSCTX_ALL, None)\n",
    "volume = cast(interface, POINTER(IAudioEndpointVolume))\n",
    "#volume.GetMute()\n",
    "#volume.GetMasterVolumeLevel()\n",
    "vol_range=volume.GetVolumeRange()\n",
    "\n",
    "vollow=vol_range[0]\n",
    "volhigh=vol_range[1]\n",
    "\n",
    "vol=0\n",
    "volbar=400\n",
    "volper=0"
   ]
  },
  {
   "cell_type": "code",
   "execution_count": 20,
   "metadata": {},
   "outputs": [],
   "source": [
    "#cap=cv2.VideoCapture('http://192.168.43.1:8080/video')\n",
    "cap=cv2.VideoCapture(0)\n",
    "#let's set our camera resolutions \n",
    "wcam,hcam=640,480\n",
    "cap.set(3,wcam)\n",
    "cap.set(4,hcam)\n",
    "\n",
    "ctime=0\n",
    "ptime=0\n",
    "#let's create our object\n",
    "detector=hdt.handdetector(detconf=0.6)"
   ]
  },
  {
   "cell_type": "code",
   "execution_count": 21,
   "metadata": {},
   "outputs": [
    {
     "name": "stderr",
     "output_type": "stream",
     "text": [
      "Exception ignored in: <function _compointer_base.__del__ at 0x000001E15D8725E0>\n",
      "Traceback (most recent call last):\n",
      "  File \"C:\\Users\\krris\\anaconda3\\anaconda_2\\lib\\site-packages\\comtypes\\__init__.py\", line 918, in __del__\n",
      "    self.Release()\n",
      "  File \"C:\\Users\\krris\\anaconda3\\anaconda_2\\lib\\site-packages\\comtypes\\__init__.py\", line 1172, in Release\n",
      "    return self.__com_Release()\n",
      "OSError: exception: access violation writing 0x0000000000000001\n",
      "Exception ignored in: <function _compointer_base.__del__ at 0x000001E15D8725E0>\n",
      "Traceback (most recent call last):\n",
      "  File \"C:\\Users\\krris\\anaconda3\\anaconda_2\\lib\\site-packages\\comtypes\\__init__.py\", line 918, in __del__\n",
      "    self.Release()\n",
      "  File \"C:\\Users\\krris\\anaconda3\\anaconda_2\\lib\\site-packages\\comtypes\\__init__.py\", line 1172, in Release\n",
      "    return self.__com_Release()\n",
      "OSError: exception: access violation writing 0x0000000000000003\n"
     ]
    }
   ],
   "source": [
    "while True:\n",
    "    ret,img=cap.read()\n",
    "    img=cv2.resize(img,(640,480))\n",
    "    img = detector.find_hands(img)\n",
    "    lmlist=detector.find_positions(img,draw=False)\n",
    "    if len(lmlist) !=0:\n",
    "        #print(lmlist[4],lmlist[8])\n",
    "        x1,y1=lmlist[4][1],lmlist[4][2]\n",
    "        x2,y2=lmlist[8][1],lmlist[8][2]\n",
    "        cx,cy=(x1+x2)//2 ,(y1+y2)//2\n",
    "        \n",
    "        length=math.hypot(x2-x1 , y2-y1)\n",
    "        vol=np.interp(length,[50,300],[vollow,volhigh])\n",
    "        volbar=np.interp(length , [50,300], [400,150])\n",
    "        volper=np.interp(length,[50,300],[0,100])\n",
    "        \n",
    "        \n",
    "        cv2.circle(img,(x1,y1),10,(0,255,0),cv2.FILLED)\n",
    "        cv2.circle(img,(x2,y2),10,(0,255,0),cv2.FILLED)\n",
    "        cv2.line(img,(x1,y1),(x2,y2),(0,0,0),3)\n",
    "        cv2.circle(img,(cx,cy),10,(0,255,0),cv2.FILLED)\n",
    "        \n",
    "        volume.SetMasterVolumeLevel(vol, None)\n",
    "        \n",
    "        cv2.rectangle(img,(50,150),(85,400),(0,255,0),3)\n",
    "        cv2.rectangle(img,(50,int(volbar)),(85,400),(0,255,0),cv2.FILLED)\n",
    "        cv2.putText(img,f'{int(volper)}%',(40,450),cv2.FONT_HERSHEY_COMPLEX,1,(255,255,0),3)\n",
    "        \n",
    "        \n",
    "        if length < 50 :\n",
    "            cv2.circle(img,(cx,cy),15,(255,255,0),cv2.FILLED)\n",
    "            \n",
    "            \n",
    "    \n",
    "    \n",
    "    ctime=time.time()\n",
    "    fps=1/(ctime-ptime)\n",
    "    ptime=ctime\n",
    "    cv2.putText(img,'FPS'+str(int(fps)),(40,50),cv2.FONT_HERSHEY_PLAIN,1,(255,0,0),3)\n",
    "    cv2.imshow('image',img)\n",
    "    if cv2.waitKey(1)==13:\n",
    "        cv2.destroyAllWindows()\n",
    "        break\n",
    "    "
   ]
  },
  {
   "cell_type": "code",
   "execution_count": 22,
   "metadata": {},
   "outputs": [],
   "source": [
    "cap.release()"
   ]
  },
  {
   "cell_type": "code",
   "execution_count": null,
   "metadata": {},
   "outputs": [],
   "source": [
    "np.interp(300,[50,300],[vollow,volhigh])"
   ]
  },
  {
   "cell_type": "code",
   "execution_count": null,
   "metadata": {},
   "outputs": [],
   "source": [
    "np.interp(300,[50,300],[vollow,volhigh])"
   ]
  },
  {
   "cell_type": "code",
   "execution_count": null,
   "metadata": {},
   "outputs": [],
   "source": []
  },
  {
   "cell_type": "code",
   "execution_count": null,
   "metadata": {},
   "outputs": [],
   "source": []
  },
  {
   "cell_type": "code",
   "execution_count": null,
   "metadata": {},
   "outputs": [],
   "source": []
  },
  {
   "cell_type": "code",
   "execution_count": null,
   "metadata": {},
   "outputs": [],
   "source": []
  },
  {
   "cell_type": "code",
   "execution_count": null,
   "metadata": {},
   "outputs": [],
   "source": []
  },
  {
   "cell_type": "code",
   "execution_count": null,
   "metadata": {},
   "outputs": [],
   "source": []
  },
  {
   "cell_type": "code",
   "execution_count": null,
   "metadata": {},
   "outputs": [],
   "source": []
  },
  {
   "cell_type": "code",
   "execution_count": null,
   "metadata": {},
   "outputs": [],
   "source": []
  },
  {
   "cell_type": "code",
   "execution_count": null,
   "metadata": {},
   "outputs": [],
   "source": []
  },
  {
   "cell_type": "code",
   "execution_count": null,
   "metadata": {},
   "outputs": [],
   "source": []
  },
  {
   "cell_type": "code",
   "execution_count": null,
   "metadata": {},
   "outputs": [],
   "source": []
  },
  {
   "cell_type": "code",
   "execution_count": null,
   "metadata": {},
   "outputs": [],
   "source": []
  },
  {
   "cell_type": "code",
   "execution_count": null,
   "metadata": {},
   "outputs": [],
   "source": []
  },
  {
   "cell_type": "code",
   "execution_count": null,
   "metadata": {},
   "outputs": [],
   "source": []
  },
  {
   "cell_type": "code",
   "execution_count": null,
   "metadata": {},
   "outputs": [],
   "source": []
  },
  {
   "cell_type": "code",
   "execution_count": null,
   "metadata": {},
   "outputs": [],
   "source": []
  },
  {
   "cell_type": "code",
   "execution_count": null,
   "metadata": {},
   "outputs": [],
   "source": []
  },
  {
   "cell_type": "code",
   "execution_count": null,
   "metadata": {},
   "outputs": [],
   "source": []
  },
  {
   "cell_type": "code",
   "execution_count": null,
   "metadata": {},
   "outputs": [],
   "source": []
  },
  {
   "cell_type": "code",
   "execution_count": null,
   "metadata": {},
   "outputs": [],
   "source": []
  },
  {
   "cell_type": "code",
   "execution_count": null,
   "metadata": {},
   "outputs": [],
   "source": []
  },
  {
   "cell_type": "code",
   "execution_count": null,
   "metadata": {},
   "outputs": [],
   "source": []
  },
  {
   "cell_type": "code",
   "execution_count": null,
   "metadata": {},
   "outputs": [],
   "source": []
  },
  {
   "cell_type": "code",
   "execution_count": null,
   "metadata": {},
   "outputs": [],
   "source": []
  },
  {
   "cell_type": "code",
   "execution_count": null,
   "metadata": {},
   "outputs": [],
   "source": []
  },
  {
   "cell_type": "code",
   "execution_count": null,
   "metadata": {},
   "outputs": [],
   "source": []
  }
 ],
 "metadata": {
  "kernelspec": {
   "display_name": "Python 3",
   "language": "python",
   "name": "python3"
  },
  "language_info": {
   "codemirror_mode": {
    "name": "ipython",
    "version": 3
   },
   "file_extension": ".py",
   "mimetype": "text/x-python",
   "name": "python",
   "nbconvert_exporter": "python",
   "pygments_lexer": "ipython3",
   "version": "3.8.5"
  }
 },
 "nbformat": 4,
 "nbformat_minor": 4
}
