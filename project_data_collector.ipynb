{
 "cells": [
  {
   "cell_type": "code",
   "execution_count": 1,
   "metadata": {},
   "outputs": [],
   "source": [
    "import mediapipe as mp\n",
    "import numpy as np\n",
    "import HandDetectormymodule as hdm\n",
    "import cv2\n",
    "import time \n",
    "import math\n",
    "import os\n",
    "\n",
    "wcam=640\n",
    "hcam=480\n",
    "\n",
    "ctime=0\n",
    "ptime=0\n",
    "detector =hdm.handdetector(detconf=0.6)\n",
    "\n",
    "cap=cv2.VideoCapture(0)\n",
    "#cap=cv2.VideoCapture('http://192.168.43.1:8080/video')\n",
    "cap.set(3,wcam)\n",
    "cap.set(3,hcam)\n",
    "\n",
    "afore=[]\n",
    "athumb=[]\n",
    "amiddle=[]\n",
    "aring=[]\n",
    "alittle=[]\n",
    "\n",
    "\n",
    "while True:\n",
    "    ret,image = cap.read()\n",
    "    img=cv2.resize(image,(640,480))\n",
    "    img=detector.find_hands(img)\n",
    "    lmlist=detector.find_positions(img,draw=False)\n",
    "    if len(lmlist) != 0:\n",
    "        x0,y0=lmlist[2][1],lmlist[2][2]\n",
    "        x02,y02=lmlist[4][1],lmlist[4][2]\n",
    "        x1,y1=lmlist[5][1],lmlist[5][2]\n",
    "        x2,y2=lmlist[8][1],lmlist[8][2]\n",
    "        x3,y3=lmlist[9][1],lmlist[9][2]\n",
    "        x4,y4=lmlist[12][1],lmlist[12][2]\n",
    "        x5,y5=lmlist[13][1],lmlist[13][2]\n",
    "        x6,y6=lmlist[16][1],lmlist[16][2]\n",
    "        x7,y7=lmlist[17][1],lmlist[17][2]\n",
    "        x8,y8=lmlist[20][1],lmlist[20][2]\n",
    "        \n",
    "        \n",
    "        thumb=math.hypot(x02-x0 , y02-y0)\n",
    "        fore=math.hypot(x2-x1 , y2-y1)\n",
    "        middle=math.hypot(x4-x3 , y4-y3)\n",
    "        ring=math.hypot(x6-x5 , y6-y5)\n",
    "        little=math.hypot(x8-x7 , y8-y7)\n",
    "        \n",
    "        afore.append(int(fore))\n",
    "        athumb.append(int(thumb))\n",
    "        amiddle.append(int(middle))\n",
    "        aring.append(int(ring))\n",
    "        alittle.append(int(little))\n",
    "\n",
    "        \n",
    "        cv2.line(img,(x1,y1),(x2,y2),(0,0,0),3)\n",
    "        cv2.line(img,(x3,y3),(x4,y4),(0,0,0),3)\n",
    "        cv2.line(img,(x5,y5),(x6,y6),(0,0,0),3)\n",
    "        cv2.line(img,(x7,y7),(x8,y8),(0,0,0),3)\n",
    "    cv2.imshow('image',img)\n",
    "    if cv2.waitKey(1)==13:\n",
    "        cv2.destroyAllWindows()\n",
    "        break\n",
    "\n",
    "        \n",
    "def find_avg(data):\n",
    "    s=0\n",
    "    a=0\n",
    "    for i in data:\n",
    "        s=s+i\n",
    "        \n",
    "    a=s/len(data)\n",
    "    \n",
    "    return a\n",
    "a_fore=find_avg(afore)\n",
    "a_thumb=find_avg(athumb)\n",
    "a_middle=find_avg(amiddle)\n",
    "a_ring=find_avg(aring)\n",
    "a_little=find_avg(alittle)                "
   ]
  },
  {
   "cell_type": "code",
   "execution_count": 2,
   "metadata": {},
   "outputs": [
    {
     "name": "stdout",
     "output_type": "stream",
     "text": [
      "[208, 194, 193, 195, 184, 197, 177, 178, 177, 175, 174, 174, 177, 177, 177, 177, 178, 175, 177, 176, 176, 175, 175, 176, 176, 176, 175, 176, 174, 176, 175, 173, 177, 176, 173, 178, 176, 178, 174, 173, 173, 172, 172, 175, 174, 175, 174, 172, 172, 172, 172, 173, 172, 170, 170, 170, 167, 169, 170, 171, 171, 176, 174, 173, 173, 172, 172, 177, 168, 172, 170, 174, 172, 172, 169, 172, 171, 169, 172, 157, 151, 155, 143, 145, 145, 143, 140, 143, 144, 146, 145, 146, 146, 143, 144, 142, 144, 150, 145, 147, 148, 150, 148, 148, 150, 152, 155, 156, 153, 152, 151, 153, 153, 153, 153, 150, 150, 156, 154, 152, 153, 152, 153, 151, 149, 153, 152, 151, 152, 155, 155, 151, 151, 152, 154, 152, 150, 155, 157, 153, 156, 154, 155, 153, 154, 153, 156, 156, 154, 159, 155, 155, 157, 158, 155, 154, 161, 157, 157, 156, 155, 158] [70, 61, 64, 52, 26, 86, 99, 107, 105, 101, 96, 107, 111, 111, 113, 107, 111, 104, 109, 105, 111, 110, 110, 105, 103, 109, 107, 109, 107, 103, 100, 105, 104, 104, 102, 108, 109, 106, 103, 105, 104, 103, 99, 106, 106, 105, 106, 98, 103, 102, 103, 103, 97, 95, 99, 102, 100, 95, 96, 103, 105, 103, 102, 103, 108, 106, 98, 102, 105, 103, 104, 103, 101, 105, 100, 102, 99, 77, 77, 74, 82, 84, 99, 97, 93, 94, 97, 94, 90, 90, 95, 96, 93, 95, 94, 91, 89, 91, 92, 95, 90, 97, 95, 93, 93, 92, 90, 95, 98, 100, 96, 99, 100, 95, 94, 94, 96, 100, 98, 95, 98, 95, 100, 93, 92, 98, 94, 97, 94, 100, 99, 99, 101, 101, 101, 98, 96, 96, 100, 101, 92, 98, 96, 98, 98, 93, 86, 92, 95, 94, 90, 91, 96, 96, 98, 92, 94, 99, 99, 98, 97, 98] [288, 247, 245, 229, 211, 218, 196, 199, 197, 195, 197, 198, 197, 197, 198, 200, 200, 200, 199, 200, 199, 198, 199, 196, 199, 198, 197, 198, 198, 195, 195, 193, 198, 199, 196, 196, 198, 199, 195, 192, 194, 194, 193, 195, 195, 195, 195, 190, 192, 194, 193, 196, 193, 192, 192, 193, 192, 190, 190, 192, 193, 196, 194, 195, 196, 197, 195, 195, 195, 194, 196, 195, 195, 195, 193, 194, 189, 191, 190, 180, 173, 173, 163, 164, 165, 166, 165, 167, 166, 167, 168, 170, 167, 165, 168, 167, 170, 168, 168, 168, 169, 172, 169, 172, 172, 173, 176, 177, 175, 175, 174, 174, 175, 175, 176, 173, 172, 176, 176, 176, 175, 175, 176, 175, 174, 174, 174, 174, 177, 172, 177, 175, 175, 176, 177, 174, 172, 176, 176, 176, 178, 174, 177, 177, 177, 177, 177, 177, 177, 179, 177, 177, 177, 180, 179, 179, 181, 181, 179, 179, 178, 181] [274, 243, 233, 229, 215, 217, 194, 196, 193, 190, 188, 189, 187, 188, 187, 190, 190, 191, 189, 191, 187, 187, 190, 187, 189, 190, 189, 188, 190, 186, 185, 186, 189, 187, 188, 188, 186, 188, 185, 185, 183, 182, 184, 184, 186, 182, 184, 182, 182, 182, 186, 181, 183, 184, 186, 185, 184, 180, 181, 185, 185, 185, 186, 189, 184, 188, 185, 188, 184, 184, 187, 187, 185, 183, 188, 187, 184, 181, 182, 174, 167, 171, 161, 161, 163, 164, 163, 163, 163, 164, 163, 164, 163, 161, 163, 163, 165, 166, 164, 163, 164, 167, 168, 167, 166, 168, 174, 170, 170, 168, 168, 169, 168, 170, 169, 168, 169, 169, 169, 171, 169, 169, 170, 169, 169, 169, 171, 169, 171, 167, 170, 169, 169, 169, 168, 169, 167, 168, 171, 170, 172, 168, 169, 170, 169, 171, 172, 171, 172, 172, 170, 170, 175, 175, 171, 174, 171, 172, 172, 173, 174, 175] [197, 196, 192, 185, 175, 178, 155, 159, 157, 156, 156, 157, 155, 156, 157, 157, 157, 159, 156, 153, 155, 157, 155, 157, 157, 157, 156, 156, 157, 154, 153, 152, 152, 154, 155, 153, 157, 155, 155, 154, 153, 155, 155, 150, 155, 154, 152, 150, 152, 152, 153, 154, 156, 154, 153, 156, 154, 153, 151, 153, 152, 153, 154, 155, 151, 153, 155, 154, 155, 151, 153, 152, 154, 154, 156, 155, 152, 153, 153, 149, 143, 143, 139, 142, 143, 141, 141, 143, 143, 144, 143, 144, 145, 143, 143, 143, 142, 141, 141, 142, 143, 144, 145, 143, 144, 143, 147, 148, 146, 146, 145, 145, 143, 145, 146, 146, 146, 145, 145, 145, 143, 146, 147, 146, 147, 147, 144, 147, 144, 143, 144, 145, 142, 147, 144, 146, 144, 143, 143, 143, 146, 146, 146, 145, 146, 145, 147, 146, 145, 147, 144, 146, 147, 146, 143, 146, 147, 148, 148, 147, 148, 146]\n"
     ]
    }
   ],
   "source": [
    "print(afore,\n",
    "athumb,\n",
    "amiddle,\n",
    "aring,\n",
    "alittle,)"
   ]
  },
  {
   "cell_type": "code",
   "execution_count": 12,
   "metadata": {},
   "outputs": [],
   "source": [
    "import mediapipe as mp\n",
    "import numpy as np\n",
    "import HandDetectormymodule as hdm\n",
    "import cv2\n",
    "import time \n",
    "import math\n",
    "import os\n",
    "\n",
    "wcam=640\n",
    "hcam=480\n",
    "\n",
    "ctime=0\n",
    "ptime=0\n",
    "detector =hdm.handdetector(detconf=0.6)\n",
    "\n",
    "cap=cv2.VideoCapture(0)\n",
    "#cap=cv2.VideoCapture('http://192.168.43.1:8080/video')\n",
    "cap.set(3,wcam)\n",
    "cap.set(3,hcam)\n",
    "\n",
    "afore=[]\n",
    "athumb=[]\n",
    "amiddle=[]\n",
    "aring=[]\n",
    "alittle=[]\n",
    "\n",
    "\n",
    "while True:\n",
    "    ret,image = cap.read()\n",
    "    img=cv2.resize(image,(640,480))\n",
    "    img=detector.find_hands(img)\n",
    "    lmlist=detector.find_positions(img,draw=False)\n",
    "    if len(lmlist) != 0:\n",
    "        x0,y0=lmlist[2][1],lmlist[2][2]\n",
    "        x02,y02=lmlist[4][1],lmlist[4][2]\n",
    "        x1,y1=lmlist[5][1],lmlist[5][2]\n",
    "        x2,y2=lmlist[8][1],lmlist[8][2]\n",
    "        x3,y3=lmlist[9][1],lmlist[9][2]\n",
    "        x4,y4=lmlist[12][1],lmlist[12][2]\n",
    "        x5,y5=lmlist[13][1],lmlist[13][2]\n",
    "        x6,y6=lmlist[16][1],lmlist[16][2]\n",
    "        x7,y7=lmlist[17][1],lmlist[17][2]\n",
    "        x8,y8=lmlist[20][1],lmlist[20][2]\n",
    "        \n",
    "        \n",
    "        thumb=math.hypot(x02-x0 , y02-y0)\n",
    "        fore=math.hypot(x2-x1 , y2-y1)\n",
    "        middle=math.hypot(x4-x3 , y4-y3)\n",
    "        ring=math.hypot(x6-x5 , y6-y5)\n",
    "        little=math.hypot(x8-x7 , y8-y7)\n",
    "        \n",
    "        afore.append(int(fore))\n",
    "        athumb.append(int(thumb))\n",
    "        amiddle.append(int(middle))\n",
    "        aring.append(int(ring))\n",
    "        alittle.append(int(little))\n",
    "\n",
    "        \n",
    "        cv2.line(img,(x1,y1),(x2,y2),(0,0,0),3)\n",
    "        cv2.line(img,(x3,y3),(x4,y4),(0,0,0),3)\n",
    "        cv2.line(img,(x5,y5),(x6,y6),(0,0,0),3)\n",
    "        cv2.line(img,(x7,y7),(x8,y8),(0,0,0),3)\n",
    "    cv2.imshow('image',img)\n",
    "    if cv2.waitKey(1)==13:\n",
    "        cv2.destroyAllWindows()\n",
    "        break\n",
    "\n",
    "        \n",
    "def find_avg(data):\n",
    "    s=0\n",
    "    a=0\n",
    "    for i in data:\n",
    "        s=s+i\n",
    "        \n",
    "    a=s/len(data)\n",
    "    \n",
    "    return a\n",
    "a_fore=find_avg(afore)\n",
    "a_thumb=find_avg(athumb)\n",
    "a_middle=find_avg(amiddle)\n",
    "a_ring=find_avg(aring)\n",
    "a_little=find_avg(alittle)                "
   ]
  },
  {
   "cell_type": "code",
   "execution_count": 18,
   "metadata": {},
   "outputs": [],
   "source": [
    "cap.release()"
   ]
  },
  {
   "cell_type": "code",
   "execution_count": 13,
   "metadata": {},
   "outputs": [
    {
     "data": {
      "text/plain": [
       "246.03076923076924"
      ]
     },
     "execution_count": 13,
     "metadata": {},
     "output_type": "execute_result"
    }
   ],
   "source": [
    "a_fore"
   ]
  },
  {
   "cell_type": "code",
   "execution_count": null,
   "metadata": {},
   "outputs": [],
   "source": []
  },
  {
   "cell_type": "code",
   "execution_count": 14,
   "metadata": {},
   "outputs": [
    {
     "data": {
      "text/plain": [
       "115.02307692307693"
      ]
     },
     "execution_count": 14,
     "metadata": {},
     "output_type": "execute_result"
    }
   ],
   "source": [
    "a_thumb"
   ]
  },
  {
   "cell_type": "code",
   "execution_count": 15,
   "metadata": {},
   "outputs": [
    {
     "data": {
      "text/plain": [
       "285.62307692307695"
      ]
     },
     "execution_count": 15,
     "metadata": {},
     "output_type": "execute_result"
    }
   ],
   "source": [
    "a_middle"
   ]
  },
  {
   "cell_type": "code",
   "execution_count": 16,
   "metadata": {},
   "outputs": [
    {
     "data": {
      "text/plain": [
       "189.91538461538462"
      ]
     },
     "execution_count": 16,
     "metadata": {},
     "output_type": "execute_result"
    }
   ],
   "source": [
    "a_little"
   ]
  },
  {
   "cell_type": "code",
   "execution_count": 17,
   "metadata": {},
   "outputs": [
    {
     "data": {
      "text/plain": [
       "251.80769230769232"
      ]
     },
     "execution_count": 17,
     "metadata": {},
     "output_type": "execute_result"
    }
   ],
   "source": [
    "a_ring"
   ]
  },
  {
   "cell_type": "code",
   "execution_count": null,
   "metadata": {},
   "outputs": [],
   "source": []
  }
 ],
 "metadata": {
  "kernelspec": {
   "display_name": "Python 3",
   "language": "python",
   "name": "python3"
  },
  "language_info": {
   "codemirror_mode": {
    "name": "ipython",
    "version": 3
   },
   "file_extension": ".py",
   "mimetype": "text/x-python",
   "name": "python",
   "nbconvert_exporter": "python",
   "pygments_lexer": "ipython3",
   "version": "3.8.5"
  }
 },
 "nbformat": 4,
 "nbformat_minor": 4
}
